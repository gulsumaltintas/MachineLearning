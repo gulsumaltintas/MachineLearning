{
  "nbformat": 4,
  "nbformat_minor": 0,
  "metadata": {
    "colab": {
      "provenance": [],
      "machine_shape": "hm",
      "include_colab_link": true
    },
    "kernelspec": {
      "name": "python3",
      "display_name": "Python 3"
    },
    "language_info": {
      "name": "python"
    },
    "accelerator": "GPU",
    "gpuClass": "standard"
  },
  "cells": [
    {
      "cell_type": "markdown",
      "metadata": {
        "id": "view-in-github",
        "colab_type": "text"
      },
      "source": [
        "<a href=\"https://colab.research.google.com/github/gulsumaltintas/MachineLearning/blob/main/Convolutional_Neural_Networks_CNN.ipynb\" target=\"_parent\"><img src=\"https://colab.research.google.com/assets/colab-badge.svg\" alt=\"Open In Colab\"/></a>"
      ]
    },
    {
      "cell_type": "code",
      "execution_count": null,
      "metadata": {
        "colab": {
          "base_uri": "https://localhost:8080/"
        },
        "id": "LrwUrYH8QMeh",
        "outputId": "247b3a5d-4cbd-4d5c-98a3-6edfd85ff77d"
      },
      "outputs": [
        {
          "output_type": "stream",
          "name": "stdout",
          "text": [
            "Mounted at /gdrive\n"
          ]
        }
      ],
      "source": [
        "from google.colab import drive\n",
        "drive.mount('/gdrive')"
      ]
    },
    {
      "cell_type": "code",
      "source": [
        "import numpy as np\n",
        "import pandas as pd\n",
        "\n",
        "import tensorflow as tf\n",
        "import tensorflow.keras as keras\n",
        "\n",
        "from tensorflow.keras import layers\n",
        "from tensorflow.keras.layers import Input, Dense, Activation, Flatten, Conv2D, MaxPooling2D\n",
        "from tensorflow.keras.models import Sequential\n",
        "import matplotlib.pyplot as pylott\n",
        "\n",
        "from sklearn.model_selection import train_test_split\n"
      ],
      "metadata": {
        "id": "yywwfppyQam8"
      },
      "execution_count": null,
      "outputs": []
    },
    {
      "cell_type": "code",
      "source": [
        "mnist_data = pd.read_csv('/gdrive/My Drive/ML_and_DL_Learning/MNIST/mnist_data.csv')"
      ],
      "metadata": {
        "id": "L5Ym8xigRPBu"
      },
      "execution_count": null,
      "outputs": []
    },
    {
      "cell_type": "code",
      "source": [
        "display(mnist_data)"
      ],
      "metadata": {
        "colab": {
          "base_uri": "https://localhost:8080/",
          "height": 488
        },
        "id": "MEgk2LYFRmkr",
        "outputId": "14103f3b-4fd8-47a5-b3a4-a663d19c1da9"
      },
      "execution_count": null,
      "outputs": [
        {
          "output_type": "display_data",
          "data": {
            "text/plain": [
              "       label  pixel0  pixel1  pixel2  pixel3  pixel4  pixel5  pixel6  pixel7  \\\n",
              "0          1       0       0       0       0       0       0       0       0   \n",
              "1          0       0       0       0       0       0       0       0       0   \n",
              "2          1       0       0       0       0       0       0       0       0   \n",
              "3          4       0       0       0       0       0       0       0       0   \n",
              "4          0       0       0       0       0       0       0       0       0   \n",
              "...      ...     ...     ...     ...     ...     ...     ...     ...     ...   \n",
              "41995      0       0       0       0       0       0       0       0       0   \n",
              "41996      1       0       0       0       0       0       0       0       0   \n",
              "41997      7       0       0       0       0       0       0       0       0   \n",
              "41998      6       0       0       0       0       0       0       0       0   \n",
              "41999      9       0       0       0       0       0       0       0       0   \n",
              "\n",
              "       pixel8  ...  pixel774  pixel775  pixel776  pixel777  pixel778  \\\n",
              "0           0  ...         0         0         0         0         0   \n",
              "1           0  ...         0         0         0         0         0   \n",
              "2           0  ...         0         0         0         0         0   \n",
              "3           0  ...         0         0         0         0         0   \n",
              "4           0  ...         0         0         0         0         0   \n",
              "...       ...  ...       ...       ...       ...       ...       ...   \n",
              "41995       0  ...         0         0         0         0         0   \n",
              "41996       0  ...         0         0         0         0         0   \n",
              "41997       0  ...         0         0         0         0         0   \n",
              "41998       0  ...         0         0         0         0         0   \n",
              "41999       0  ...         0         0         0         0         0   \n",
              "\n",
              "       pixel779  pixel780  pixel781  pixel782  pixel783  \n",
              "0             0         0         0         0         0  \n",
              "1             0         0         0         0         0  \n",
              "2             0         0         0         0         0  \n",
              "3             0         0         0         0         0  \n",
              "4             0         0         0         0         0  \n",
              "...         ...       ...       ...       ...       ...  \n",
              "41995         0         0         0         0         0  \n",
              "41996         0         0         0         0         0  \n",
              "41997         0         0         0         0         0  \n",
              "41998         0         0         0         0         0  \n",
              "41999         0         0         0         0         0  \n",
              "\n",
              "[42000 rows x 785 columns]"
            ],
            "text/html": [
              "\n",
              "  <div id=\"df-03405b4c-a111-45eb-b2a2-2e5368e10707\">\n",
              "    <div class=\"colab-df-container\">\n",
              "      <div>\n",
              "<style scoped>\n",
              "    .dataframe tbody tr th:only-of-type {\n",
              "        vertical-align: middle;\n",
              "    }\n",
              "\n",
              "    .dataframe tbody tr th {\n",
              "        vertical-align: top;\n",
              "    }\n",
              "\n",
              "    .dataframe thead th {\n",
              "        text-align: right;\n",
              "    }\n",
              "</style>\n",
              "<table border=\"1\" class=\"dataframe\">\n",
              "  <thead>\n",
              "    <tr style=\"text-align: right;\">\n",
              "      <th></th>\n",
              "      <th>label</th>\n",
              "      <th>pixel0</th>\n",
              "      <th>pixel1</th>\n",
              "      <th>pixel2</th>\n",
              "      <th>pixel3</th>\n",
              "      <th>pixel4</th>\n",
              "      <th>pixel5</th>\n",
              "      <th>pixel6</th>\n",
              "      <th>pixel7</th>\n",
              "      <th>pixel8</th>\n",
              "      <th>...</th>\n",
              "      <th>pixel774</th>\n",
              "      <th>pixel775</th>\n",
              "      <th>pixel776</th>\n",
              "      <th>pixel777</th>\n",
              "      <th>pixel778</th>\n",
              "      <th>pixel779</th>\n",
              "      <th>pixel780</th>\n",
              "      <th>pixel781</th>\n",
              "      <th>pixel782</th>\n",
              "      <th>pixel783</th>\n",
              "    </tr>\n",
              "  </thead>\n",
              "  <tbody>\n",
              "    <tr>\n",
              "      <th>0</th>\n",
              "      <td>1</td>\n",
              "      <td>0</td>\n",
              "      <td>0</td>\n",
              "      <td>0</td>\n",
              "      <td>0</td>\n",
              "      <td>0</td>\n",
              "      <td>0</td>\n",
              "      <td>0</td>\n",
              "      <td>0</td>\n",
              "      <td>0</td>\n",
              "      <td>...</td>\n",
              "      <td>0</td>\n",
              "      <td>0</td>\n",
              "      <td>0</td>\n",
              "      <td>0</td>\n",
              "      <td>0</td>\n",
              "      <td>0</td>\n",
              "      <td>0</td>\n",
              "      <td>0</td>\n",
              "      <td>0</td>\n",
              "      <td>0</td>\n",
              "    </tr>\n",
              "    <tr>\n",
              "      <th>1</th>\n",
              "      <td>0</td>\n",
              "      <td>0</td>\n",
              "      <td>0</td>\n",
              "      <td>0</td>\n",
              "      <td>0</td>\n",
              "      <td>0</td>\n",
              "      <td>0</td>\n",
              "      <td>0</td>\n",
              "      <td>0</td>\n",
              "      <td>0</td>\n",
              "      <td>...</td>\n",
              "      <td>0</td>\n",
              "      <td>0</td>\n",
              "      <td>0</td>\n",
              "      <td>0</td>\n",
              "      <td>0</td>\n",
              "      <td>0</td>\n",
              "      <td>0</td>\n",
              "      <td>0</td>\n",
              "      <td>0</td>\n",
              "      <td>0</td>\n",
              "    </tr>\n",
              "    <tr>\n",
              "      <th>2</th>\n",
              "      <td>1</td>\n",
              "      <td>0</td>\n",
              "      <td>0</td>\n",
              "      <td>0</td>\n",
              "      <td>0</td>\n",
              "      <td>0</td>\n",
              "      <td>0</td>\n",
              "      <td>0</td>\n",
              "      <td>0</td>\n",
              "      <td>0</td>\n",
              "      <td>...</td>\n",
              "      <td>0</td>\n",
              "      <td>0</td>\n",
              "      <td>0</td>\n",
              "      <td>0</td>\n",
              "      <td>0</td>\n",
              "      <td>0</td>\n",
              "      <td>0</td>\n",
              "      <td>0</td>\n",
              "      <td>0</td>\n",
              "      <td>0</td>\n",
              "    </tr>\n",
              "    <tr>\n",
              "      <th>3</th>\n",
              "      <td>4</td>\n",
              "      <td>0</td>\n",
              "      <td>0</td>\n",
              "      <td>0</td>\n",
              "      <td>0</td>\n",
              "      <td>0</td>\n",
              "      <td>0</td>\n",
              "      <td>0</td>\n",
              "      <td>0</td>\n",
              "      <td>0</td>\n",
              "      <td>...</td>\n",
              "      <td>0</td>\n",
              "      <td>0</td>\n",
              "      <td>0</td>\n",
              "      <td>0</td>\n",
              "      <td>0</td>\n",
              "      <td>0</td>\n",
              "      <td>0</td>\n",
              "      <td>0</td>\n",
              "      <td>0</td>\n",
              "      <td>0</td>\n",
              "    </tr>\n",
              "    <tr>\n",
              "      <th>4</th>\n",
              "      <td>0</td>\n",
              "      <td>0</td>\n",
              "      <td>0</td>\n",
              "      <td>0</td>\n",
              "      <td>0</td>\n",
              "      <td>0</td>\n",
              "      <td>0</td>\n",
              "      <td>0</td>\n",
              "      <td>0</td>\n",
              "      <td>0</td>\n",
              "      <td>...</td>\n",
              "      <td>0</td>\n",
              "      <td>0</td>\n",
              "      <td>0</td>\n",
              "      <td>0</td>\n",
              "      <td>0</td>\n",
              "      <td>0</td>\n",
              "      <td>0</td>\n",
              "      <td>0</td>\n",
              "      <td>0</td>\n",
              "      <td>0</td>\n",
              "    </tr>\n",
              "    <tr>\n",
              "      <th>...</th>\n",
              "      <td>...</td>\n",
              "      <td>...</td>\n",
              "      <td>...</td>\n",
              "      <td>...</td>\n",
              "      <td>...</td>\n",
              "      <td>...</td>\n",
              "      <td>...</td>\n",
              "      <td>...</td>\n",
              "      <td>...</td>\n",
              "      <td>...</td>\n",
              "      <td>...</td>\n",
              "      <td>...</td>\n",
              "      <td>...</td>\n",
              "      <td>...</td>\n",
              "      <td>...</td>\n",
              "      <td>...</td>\n",
              "      <td>...</td>\n",
              "      <td>...</td>\n",
              "      <td>...</td>\n",
              "      <td>...</td>\n",
              "      <td>...</td>\n",
              "    </tr>\n",
              "    <tr>\n",
              "      <th>41995</th>\n",
              "      <td>0</td>\n",
              "      <td>0</td>\n",
              "      <td>0</td>\n",
              "      <td>0</td>\n",
              "      <td>0</td>\n",
              "      <td>0</td>\n",
              "      <td>0</td>\n",
              "      <td>0</td>\n",
              "      <td>0</td>\n",
              "      <td>0</td>\n",
              "      <td>...</td>\n",
              "      <td>0</td>\n",
              "      <td>0</td>\n",
              "      <td>0</td>\n",
              "      <td>0</td>\n",
              "      <td>0</td>\n",
              "      <td>0</td>\n",
              "      <td>0</td>\n",
              "      <td>0</td>\n",
              "      <td>0</td>\n",
              "      <td>0</td>\n",
              "    </tr>\n",
              "    <tr>\n",
              "      <th>41996</th>\n",
              "      <td>1</td>\n",
              "      <td>0</td>\n",
              "      <td>0</td>\n",
              "      <td>0</td>\n",
              "      <td>0</td>\n",
              "      <td>0</td>\n",
              "      <td>0</td>\n",
              "      <td>0</td>\n",
              "      <td>0</td>\n",
              "      <td>0</td>\n",
              "      <td>...</td>\n",
              "      <td>0</td>\n",
              "      <td>0</td>\n",
              "      <td>0</td>\n",
              "      <td>0</td>\n",
              "      <td>0</td>\n",
              "      <td>0</td>\n",
              "      <td>0</td>\n",
              "      <td>0</td>\n",
              "      <td>0</td>\n",
              "      <td>0</td>\n",
              "    </tr>\n",
              "    <tr>\n",
              "      <th>41997</th>\n",
              "      <td>7</td>\n",
              "      <td>0</td>\n",
              "      <td>0</td>\n",
              "      <td>0</td>\n",
              "      <td>0</td>\n",
              "      <td>0</td>\n",
              "      <td>0</td>\n",
              "      <td>0</td>\n",
              "      <td>0</td>\n",
              "      <td>0</td>\n",
              "      <td>...</td>\n",
              "      <td>0</td>\n",
              "      <td>0</td>\n",
              "      <td>0</td>\n",
              "      <td>0</td>\n",
              "      <td>0</td>\n",
              "      <td>0</td>\n",
              "      <td>0</td>\n",
              "      <td>0</td>\n",
              "      <td>0</td>\n",
              "      <td>0</td>\n",
              "    </tr>\n",
              "    <tr>\n",
              "      <th>41998</th>\n",
              "      <td>6</td>\n",
              "      <td>0</td>\n",
              "      <td>0</td>\n",
              "      <td>0</td>\n",
              "      <td>0</td>\n",
              "      <td>0</td>\n",
              "      <td>0</td>\n",
              "      <td>0</td>\n",
              "      <td>0</td>\n",
              "      <td>0</td>\n",
              "      <td>...</td>\n",
              "      <td>0</td>\n",
              "      <td>0</td>\n",
              "      <td>0</td>\n",
              "      <td>0</td>\n",
              "      <td>0</td>\n",
              "      <td>0</td>\n",
              "      <td>0</td>\n",
              "      <td>0</td>\n",
              "      <td>0</td>\n",
              "      <td>0</td>\n",
              "    </tr>\n",
              "    <tr>\n",
              "      <th>41999</th>\n",
              "      <td>9</td>\n",
              "      <td>0</td>\n",
              "      <td>0</td>\n",
              "      <td>0</td>\n",
              "      <td>0</td>\n",
              "      <td>0</td>\n",
              "      <td>0</td>\n",
              "      <td>0</td>\n",
              "      <td>0</td>\n",
              "      <td>0</td>\n",
              "      <td>...</td>\n",
              "      <td>0</td>\n",
              "      <td>0</td>\n",
              "      <td>0</td>\n",
              "      <td>0</td>\n",
              "      <td>0</td>\n",
              "      <td>0</td>\n",
              "      <td>0</td>\n",
              "      <td>0</td>\n",
              "      <td>0</td>\n",
              "      <td>0</td>\n",
              "    </tr>\n",
              "  </tbody>\n",
              "</table>\n",
              "<p>42000 rows × 785 columns</p>\n",
              "</div>\n",
              "      <button class=\"colab-df-convert\" onclick=\"convertToInteractive('df-03405b4c-a111-45eb-b2a2-2e5368e10707')\"\n",
              "              title=\"Convert this dataframe to an interactive table.\"\n",
              "              style=\"display:none;\">\n",
              "        \n",
              "  <svg xmlns=\"http://www.w3.org/2000/svg\" height=\"24px\"viewBox=\"0 0 24 24\"\n",
              "       width=\"24px\">\n",
              "    <path d=\"M0 0h24v24H0V0z\" fill=\"none\"/>\n",
              "    <path d=\"M18.56 5.44l.94 2.06.94-2.06 2.06-.94-2.06-.94-.94-2.06-.94 2.06-2.06.94zm-11 1L8.5 8.5l.94-2.06 2.06-.94-2.06-.94L8.5 2.5l-.94 2.06-2.06.94zm10 10l.94 2.06.94-2.06 2.06-.94-2.06-.94-.94-2.06-.94 2.06-2.06.94z\"/><path d=\"M17.41 7.96l-1.37-1.37c-.4-.4-.92-.59-1.43-.59-.52 0-1.04.2-1.43.59L10.3 9.45l-7.72 7.72c-.78.78-.78 2.05 0 2.83L4 21.41c.39.39.9.59 1.41.59.51 0 1.02-.2 1.41-.59l7.78-7.78 2.81-2.81c.8-.78.8-2.07 0-2.86zM5.41 20L4 18.59l7.72-7.72 1.47 1.35L5.41 20z\"/>\n",
              "  </svg>\n",
              "      </button>\n",
              "      \n",
              "  <style>\n",
              "    .colab-df-container {\n",
              "      display:flex;\n",
              "      flex-wrap:wrap;\n",
              "      gap: 12px;\n",
              "    }\n",
              "\n",
              "    .colab-df-convert {\n",
              "      background-color: #E8F0FE;\n",
              "      border: none;\n",
              "      border-radius: 50%;\n",
              "      cursor: pointer;\n",
              "      display: none;\n",
              "      fill: #1967D2;\n",
              "      height: 32px;\n",
              "      padding: 0 0 0 0;\n",
              "      width: 32px;\n",
              "    }\n",
              "\n",
              "    .colab-df-convert:hover {\n",
              "      background-color: #E2EBFA;\n",
              "      box-shadow: 0px 1px 2px rgba(60, 64, 67, 0.3), 0px 1px 3px 1px rgba(60, 64, 67, 0.15);\n",
              "      fill: #174EA6;\n",
              "    }\n",
              "\n",
              "    [theme=dark] .colab-df-convert {\n",
              "      background-color: #3B4455;\n",
              "      fill: #D2E3FC;\n",
              "    }\n",
              "\n",
              "    [theme=dark] .colab-df-convert:hover {\n",
              "      background-color: #434B5C;\n",
              "      box-shadow: 0px 1px 3px 1px rgba(0, 0, 0, 0.15);\n",
              "      filter: drop-shadow(0px 1px 2px rgba(0, 0, 0, 0.3));\n",
              "      fill: #FFFFFF;\n",
              "    }\n",
              "  </style>\n",
              "\n",
              "      <script>\n",
              "        const buttonEl =\n",
              "          document.querySelector('#df-03405b4c-a111-45eb-b2a2-2e5368e10707 button.colab-df-convert');\n",
              "        buttonEl.style.display =\n",
              "          google.colab.kernel.accessAllowed ? 'block' : 'none';\n",
              "\n",
              "        async function convertToInteractive(key) {\n",
              "          const element = document.querySelector('#df-03405b4c-a111-45eb-b2a2-2e5368e10707');\n",
              "          const dataTable =\n",
              "            await google.colab.kernel.invokeFunction('convertToInteractive',\n",
              "                                                     [key], {});\n",
              "          if (!dataTable) return;\n",
              "\n",
              "          const docLinkHtml = 'Like what you see? Visit the ' +\n",
              "            '<a target=\"_blank\" href=https://colab.research.google.com/notebooks/data_table.ipynb>data table notebook</a>'\n",
              "            + ' to learn more about interactive tables.';\n",
              "          element.innerHTML = '';\n",
              "          dataTable['output_type'] = 'display_data';\n",
              "          await google.colab.output.renderOutput(dataTable, element);\n",
              "          const docLink = document.createElement('div');\n",
              "          docLink.innerHTML = docLinkHtml;\n",
              "          element.appendChild(docLink);\n",
              "        }\n",
              "      </script>\n",
              "    </div>\n",
              "  </div>\n",
              "  "
            ]
          },
          "metadata": {}
        }
      ]
    },
    {
      "cell_type": "code",
      "source": [
        "print(f\"Mnist veri boyutu {mnist_data.shape}\")"
      ],
      "metadata": {
        "colab": {
          "base_uri": "https://localhost:8080/"
        },
        "id": "p_I8XrbHSCsL",
        "outputId": "3907152d-1670-4429-ec18-c92f18301998"
      },
      "execution_count": null,
      "outputs": [
        {
          "output_type": "stream",
          "name": "stdout",
          "text": [
            "Mnist veri boyutu (42000, 785)\n"
          ]
        }
      ]
    },
    {
      "cell_type": "code",
      "source": [
        "X = mnist_data.drop(['label'],1).values\n",
        "y = mnist_data['label'].values"
      ],
      "metadata": {
        "colab": {
          "base_uri": "https://localhost:8080/"
        },
        "id": "FcUFKL6zSOo-",
        "outputId": "e421953c-6211-419f-884d-717105b93971"
      },
      "execution_count": null,
      "outputs": [
        {
          "output_type": "stream",
          "name": "stderr",
          "text": [
            "<ipython-input-7-bcb34fd5c6c3>:1: FutureWarning: In a future version of pandas all arguments of DataFrame.drop except for the argument 'labels' will be keyword-only.\n",
            "  X = mnist_data.drop(['label'],1).values\n"
          ]
        }
      ]
    },
    {
      "cell_type": "code",
      "source": [
        "X = X / 255.0\n",
        "\n",
        "X = X.reshape(-1, 28, 28, 1)"
      ],
      "metadata": {
        "id": "NyoTvT5SSkzX"
      },
      "execution_count": null,
      "outputs": []
    },
    {
      "cell_type": "code",
      "source": [
        "y = tf.keras.utils.to_categorical(y)\n",
        "print(f\"Kategoriler {y.shape}\")"
      ],
      "metadata": {
        "colab": {
          "base_uri": "https://localhost:8080/"
        },
        "id": "yvzYo2tXTAgZ",
        "outputId": "176b939d-b402-407a-a71c-6b3c3ff7f243"
      },
      "execution_count": null,
      "outputs": [
        {
          "output_type": "stream",
          "name": "stdout",
          "text": [
            "Kategoriler (42000, 10)\n"
          ]
        }
      ]
    },
    {
      "cell_type": "code",
      "source": [
        "X_train, X_test, y_train, y_test = train_test_split(X, y, test_size=0.2, random_state=42)\n",
        "\n",
        "X_train, X_val, y_train, y_val = train_test_split(X_train, y_train, test_size=0.2, random_state=42)"
      ],
      "metadata": {
        "id": "m02bMi3STbrx"
      },
      "execution_count": null,
      "outputs": []
    },
    {
      "cell_type": "code",
      "source": [
        "print(\"X_train shape:\", X_train.shape)\n",
        "print(\"X_test shape:\", X_test.shape)\n",
        "print(\"y_train shape:\", y_train.shape)\n",
        "print(\"y_test shape:\", y_test.shape)\n",
        "print(\"X_val shape:\", X_val.shape)\n",
        "print(\"y_val shape:\", y_val.shape)"
      ],
      "metadata": {
        "colab": {
          "base_uri": "https://localhost:8080/"
        },
        "id": "be88aocPUZju",
        "outputId": "b6777f8b-2e8b-4400-adff-cc20b0cce58c"
      },
      "execution_count": null,
      "outputs": [
        {
          "output_type": "stream",
          "name": "stdout",
          "text": [
            "X_train shape: (26880, 28, 28, 1)\n",
            "X_test shape: (8400, 28, 28, 1)\n",
            "y_train shape: (26880, 10)\n",
            "y_test shape: (8400, 10)\n",
            "X_val shape: (6720, 28, 28, 1)\n",
            "y_val shape: (6720, 10)\n"
          ]
        }
      ]
    },
    {
      "cell_type": "code",
      "source": [
        "def CNN_Mnist():\n",
        "  model = Sequential()\n",
        "\n",
        "  model.add(Conv2D(32, (3,3), padding='same', input_shape=(28,28,1)))\n",
        "  model.add(Activation('relu'))\n",
        "  model.add(MaxPooling2D(pool_size=(2,2)))\n",
        "\n",
        "  model.add(Conv2D(32, (3,3), padding='same'))\n",
        "  model.add(Activation('relu'))\n",
        "  model.add(MaxPooling2D(pool_size=(2,2)))\n",
        "\n",
        "  model.add(Flatten())\n",
        "  model.add(Dense(1024))\n",
        "  model.add(Activation('relu'))\n",
        "  model.add(Dense(1024))\n",
        "  model.add(Activation('relu'))\n",
        "  model.add(Dense(10))\n",
        "  model.add(Activation('softmax'))\n",
        "\n",
        "  return model"
      ],
      "metadata": {
        "id": "73UARR2JU4xO"
      },
      "execution_count": null,
      "outputs": []
    },
    {
      "cell_type": "code",
      "source": [
        "model = CNN_Mnist()"
      ],
      "metadata": {
        "id": "fhCDSFWSWlWL"
      },
      "execution_count": null,
      "outputs": []
    },
    {
      "cell_type": "code",
      "source": [
        "model.compile(optimizer='adam', loss='CategoricalCrossentropy', metrics=['accuracy'])"
      ],
      "metadata": {
        "id": "JCcGgiM2Wp_C"
      },
      "execution_count": null,
      "outputs": []
    },
    {
      "cell_type": "code",
      "source": [
        "model.summary()"
      ],
      "metadata": {
        "colab": {
          "base_uri": "https://localhost:8080/"
        },
        "id": "4WZpqyBuXQiO",
        "outputId": "5d4c0c19-d1ac-415f-e0e7-428866befad4"
      },
      "execution_count": null,
      "outputs": [
        {
          "output_type": "stream",
          "name": "stdout",
          "text": [
            "Model: \"sequential\"\n",
            "_________________________________________________________________\n",
            " Layer (type)                Output Shape              Param #   \n",
            "=================================================================\n",
            " conv2d (Conv2D)             (None, 28, 28, 32)        320       \n",
            "                                                                 \n",
            " activation (Activation)     (None, 28, 28, 32)        0         \n",
            "                                                                 \n",
            " max_pooling2d (MaxPooling2D  (None, 14, 14, 32)       0         \n",
            " )                                                               \n",
            "                                                                 \n",
            " conv2d_1 (Conv2D)           (None, 14, 14, 32)        9248      \n",
            "                                                                 \n",
            " activation_1 (Activation)   (None, 14, 14, 32)        0         \n",
            "                                                                 \n",
            " max_pooling2d_1 (MaxPooling  (None, 7, 7, 32)         0         \n",
            " 2D)                                                             \n",
            "                                                                 \n",
            " flatten (Flatten)           (None, 1568)              0         \n",
            "                                                                 \n",
            " dense (Dense)               (None, 1024)              1606656   \n",
            "                                                                 \n",
            " activation_2 (Activation)   (None, 1024)              0         \n",
            "                                                                 \n",
            " dense_1 (Dense)             (None, 1024)              1049600   \n",
            "                                                                 \n",
            " activation_3 (Activation)   (None, 1024)              0         \n",
            "                                                                 \n",
            " dense_2 (Dense)             (None, 10)                10250     \n",
            "                                                                 \n",
            " activation_4 (Activation)   (None, 10)                0         \n",
            "                                                                 \n",
            "=================================================================\n",
            "Total params: 2,676,074\n",
            "Trainable params: 2,676,074\n",
            "Non-trainable params: 0\n",
            "_________________________________________________________________\n"
          ]
        }
      ]
    },
    {
      "cell_type": "code",
      "source": [
        "history = model.fit(X_train, y_train,\n",
        "                    validation_data=(X_val, y_val),\n",
        "                    batch_size = 64,\n",
        "                    epochs=50,\n",
        "                    verbose = 1)"
      ],
      "metadata": {
        "colab": {
          "base_uri": "https://localhost:8080/"
        },
        "id": "IVLVswokXkvJ",
        "outputId": "77ba5cd6-1f72-481f-9816-f434bd9a4ed8"
      },
      "execution_count": null,
      "outputs": [
        {
          "output_type": "stream",
          "name": "stdout",
          "text": [
            "Epoch 1/50\n",
            "420/420 [==============================] - 13s 5ms/step - loss: 0.2022 - accuracy: 0.9356 - val_loss: 0.0746 - val_accuracy: 0.9754\n",
            "Epoch 2/50\n",
            "420/420 [==============================] - 2s 4ms/step - loss: 0.0550 - accuracy: 0.9824 - val_loss: 0.0997 - val_accuracy: 0.9689\n",
            "Epoch 3/50\n",
            "420/420 [==============================] - 2s 4ms/step - loss: 0.0378 - accuracy: 0.9882 - val_loss: 0.0523 - val_accuracy: 0.9829\n",
            "Epoch 4/50\n",
            "420/420 [==============================] - 2s 4ms/step - loss: 0.0265 - accuracy: 0.9917 - val_loss: 0.0399 - val_accuracy: 0.9875\n",
            "Epoch 5/50\n",
            "420/420 [==============================] - 2s 4ms/step - loss: 0.0218 - accuracy: 0.9930 - val_loss: 0.0487 - val_accuracy: 0.9878\n",
            "Epoch 6/50\n",
            "420/420 [==============================] - 2s 4ms/step - loss: 0.0192 - accuracy: 0.9943 - val_loss: 0.0507 - val_accuracy: 0.9845\n",
            "Epoch 7/50\n",
            "420/420 [==============================] - 2s 4ms/step - loss: 0.0166 - accuracy: 0.9952 - val_loss: 0.0524 - val_accuracy: 0.9860\n",
            "Epoch 8/50\n",
            "420/420 [==============================] - 2s 4ms/step - loss: 0.0088 - accuracy: 0.9970 - val_loss: 0.0616 - val_accuracy: 0.9857\n",
            "Epoch 9/50\n",
            "420/420 [==============================] - 2s 4ms/step - loss: 0.0157 - accuracy: 0.9950 - val_loss: 0.0748 - val_accuracy: 0.9810\n",
            "Epoch 10/50\n",
            "420/420 [==============================] - 2s 4ms/step - loss: 0.0117 - accuracy: 0.9967 - val_loss: 0.0458 - val_accuracy: 0.9869\n",
            "Epoch 11/50\n",
            "420/420 [==============================] - 2s 4ms/step - loss: 0.0090 - accuracy: 0.9974 - val_loss: 0.0538 - val_accuracy: 0.9854\n",
            "Epoch 12/50\n",
            "420/420 [==============================] - 2s 4ms/step - loss: 0.0089 - accuracy: 0.9971 - val_loss: 0.0511 - val_accuracy: 0.9878\n",
            "Epoch 13/50\n",
            "420/420 [==============================] - 2s 4ms/step - loss: 0.0070 - accuracy: 0.9978 - val_loss: 0.0660 - val_accuracy: 0.9869\n",
            "Epoch 14/50\n",
            "420/420 [==============================] - 2s 4ms/step - loss: 0.0084 - accuracy: 0.9982 - val_loss: 0.0513 - val_accuracy: 0.9897\n",
            "Epoch 15/50\n",
            "420/420 [==============================] - 2s 4ms/step - loss: 0.0036 - accuracy: 0.9990 - val_loss: 0.0790 - val_accuracy: 0.9865\n",
            "Epoch 16/50\n",
            "420/420 [==============================] - 2s 4ms/step - loss: 0.0103 - accuracy: 0.9967 - val_loss: 0.1018 - val_accuracy: 0.9820\n",
            "Epoch 17/50\n",
            "420/420 [==============================] - 2s 4ms/step - loss: 0.0117 - accuracy: 0.9964 - val_loss: 0.0675 - val_accuracy: 0.9859\n",
            "Epoch 18/50\n",
            "420/420 [==============================] - 2s 4ms/step - loss: 0.0055 - accuracy: 0.9984 - val_loss: 0.0619 - val_accuracy: 0.9875\n",
            "Epoch 19/50\n",
            "420/420 [==============================] - 2s 4ms/step - loss: 0.0039 - accuracy: 0.9988 - val_loss: 0.0733 - val_accuracy: 0.9876\n",
            "Epoch 20/50\n",
            "420/420 [==============================] - 2s 4ms/step - loss: 0.0077 - accuracy: 0.9979 - val_loss: 0.0628 - val_accuracy: 0.9882\n",
            "Epoch 21/50\n",
            "420/420 [==============================] - 2s 4ms/step - loss: 0.0018 - accuracy: 0.9995 - val_loss: 0.0552 - val_accuracy: 0.9888\n",
            "Epoch 22/50\n",
            "420/420 [==============================] - 2s 5ms/step - loss: 0.0021 - accuracy: 0.9996 - val_loss: 0.1011 - val_accuracy: 0.9835\n",
            "Epoch 23/50\n",
            "420/420 [==============================] - 2s 4ms/step - loss: 0.0126 - accuracy: 0.9968 - val_loss: 0.0632 - val_accuracy: 0.9878\n",
            "Epoch 24/50\n",
            "420/420 [==============================] - 2s 4ms/step - loss: 0.0036 - accuracy: 0.9991 - val_loss: 0.0822 - val_accuracy: 0.9860\n",
            "Epoch 25/50\n",
            "420/420 [==============================] - 2s 4ms/step - loss: 0.0036 - accuracy: 0.9991 - val_loss: 0.0632 - val_accuracy: 0.9896\n",
            "Epoch 26/50\n",
            "420/420 [==============================] - 2s 4ms/step - loss: 0.0039 - accuracy: 0.9992 - val_loss: 0.0983 - val_accuracy: 0.9838\n",
            "Epoch 27/50\n",
            "420/420 [==============================] - 2s 4ms/step - loss: 0.0106 - accuracy: 0.9974 - val_loss: 0.0636 - val_accuracy: 0.9885\n",
            "Epoch 28/50\n",
            "420/420 [==============================] - 2s 4ms/step - loss: 0.0032 - accuracy: 0.9991 - val_loss: 0.0623 - val_accuracy: 0.9885\n",
            "Epoch 29/50\n",
            "420/420 [==============================] - 2s 4ms/step - loss: 3.4611e-04 - accuracy: 0.9999 - val_loss: 0.0623 - val_accuracy: 0.9905\n",
            "Epoch 30/50\n",
            "420/420 [==============================] - 2s 4ms/step - loss: 1.2062e-05 - accuracy: 1.0000 - val_loss: 0.0631 - val_accuracy: 0.9912\n",
            "Epoch 31/50\n",
            "420/420 [==============================] - 2s 4ms/step - loss: 3.8567e-06 - accuracy: 1.0000 - val_loss: 0.0721 - val_accuracy: 0.9908\n",
            "Epoch 32/50\n",
            "420/420 [==============================] - 2s 4ms/step - loss: 5.1677e-07 - accuracy: 1.0000 - val_loss: 0.0784 - val_accuracy: 0.9906\n",
            "Epoch 33/50\n",
            "420/420 [==============================] - 2s 4ms/step - loss: 2.0696e-07 - accuracy: 1.0000 - val_loss: 0.0816 - val_accuracy: 0.9906\n",
            "Epoch 34/50\n",
            "420/420 [==============================] - 2s 5ms/step - loss: 1.2930e-07 - accuracy: 1.0000 - val_loss: 0.0836 - val_accuracy: 0.9906\n",
            "Epoch 35/50\n",
            "420/420 [==============================] - 2s 5ms/step - loss: 9.2017e-08 - accuracy: 1.0000 - val_loss: 0.0852 - val_accuracy: 0.9906\n",
            "Epoch 36/50\n",
            "420/420 [==============================] - 2s 5ms/step - loss: 7.2349e-08 - accuracy: 1.0000 - val_loss: 0.0866 - val_accuracy: 0.9905\n",
            "Epoch 37/50\n",
            "420/420 [==============================] - 2s 5ms/step - loss: 5.7755e-08 - accuracy: 1.0000 - val_loss: 0.0877 - val_accuracy: 0.9903\n",
            "Epoch 38/50\n",
            "420/420 [==============================] - 2s 5ms/step - loss: 4.8038e-08 - accuracy: 1.0000 - val_loss: 0.0886 - val_accuracy: 0.9905\n",
            "Epoch 39/50\n",
            "420/420 [==============================] - 2s 4ms/step - loss: 4.1036e-08 - accuracy: 1.0000 - val_loss: 0.0894 - val_accuracy: 0.9905\n",
            "Epoch 40/50\n",
            "420/420 [==============================] - 2s 4ms/step - loss: 3.4654e-08 - accuracy: 1.0000 - val_loss: 0.0902 - val_accuracy: 0.9903\n",
            "Epoch 41/50\n",
            "420/420 [==============================] - 2s 4ms/step - loss: 3.0507e-08 - accuracy: 1.0000 - val_loss: 0.0908 - val_accuracy: 0.9903\n",
            "Epoch 42/50\n",
            "420/420 [==============================] - 2s 4ms/step - loss: 2.6299e-08 - accuracy: 1.0000 - val_loss: 0.0915 - val_accuracy: 0.9903\n",
            "Epoch 43/50\n",
            "420/420 [==============================] - 2s 4ms/step - loss: 2.3593e-08 - accuracy: 1.0000 - val_loss: 0.0922 - val_accuracy: 0.9903\n",
            "Epoch 44/50\n",
            "420/420 [==============================] - 2s 5ms/step - loss: 2.0609e-08 - accuracy: 1.0000 - val_loss: 0.0927 - val_accuracy: 0.9903\n",
            "Epoch 45/50\n",
            "420/420 [==============================] - 2s 5ms/step - loss: 1.8267e-08 - accuracy: 1.0000 - val_loss: 0.0932 - val_accuracy: 0.9903\n",
            "Epoch 46/50\n",
            "420/420 [==============================] - 2s 4ms/step - loss: 1.6196e-08 - accuracy: 1.0000 - val_loss: 0.0936 - val_accuracy: 0.9903\n",
            "Epoch 47/50\n",
            "420/420 [==============================] - 2s 5ms/step - loss: 1.4373e-08 - accuracy: 1.0000 - val_loss: 0.0939 - val_accuracy: 0.9903\n",
            "Epoch 48/50\n",
            "420/420 [==============================] - 2s 4ms/step - loss: 1.3234e-08 - accuracy: 1.0000 - val_loss: 0.0944 - val_accuracy: 0.9903\n",
            "Epoch 49/50\n",
            "420/420 [==============================] - 2s 4ms/step - loss: 1.1513e-08 - accuracy: 1.0000 - val_loss: 0.0947 - val_accuracy: 0.9903\n",
            "Epoch 50/50\n",
            "420/420 [==============================] - 2s 5ms/step - loss: 1.0360e-08 - accuracy: 1.0000 - val_loss: 0.0951 - val_accuracy: 0.9903\n"
          ]
        }
      ]
    },
    {
      "cell_type": "code",
      "source": [
        "train_score = model.evaluate(X_train, y_train)\n",
        "print(\"Eğitim verisi doğruluk oranı: \", train_score[1])\n",
        "\n",
        "test_score = model.evaluate(X_test, y_test)\n",
        "print(\"Test verisi doğruluk oranı: \", test_score[1])\n",
        "\n",
        "val_score = model.evaluate(X_val, y_val)\n",
        "print(\"Validation verisi doğruluk oranı: \", val_score[1])"
      ],
      "metadata": {
        "colab": {
          "base_uri": "https://localhost:8080/"
        },
        "id": "LbKRR3CyY-Ij",
        "outputId": "dbff5b48-3723-4173-f4e8-8eb72604c489"
      },
      "execution_count": null,
      "outputs": [
        {
          "output_type": "stream",
          "name": "stdout",
          "text": [
            "840/840 [==============================] - 2s 3ms/step - loss: 9.1624e-09 - accuracy: 1.0000\n",
            "Eğitim verisi doğruluk oranı:  1.0\n",
            "263/263 [==============================] - 1s 3ms/step - loss: 0.0778 - accuracy: 0.9915\n",
            "Test verisi doğruluk oranı:  0.9915476441383362\n",
            "210/210 [==============================] - 1s 3ms/step - loss: 0.0951 - accuracy: 0.9903\n",
            "Validation verisi doğruluk oranı:  0.9903273582458496\n"
          ]
        }
      ]
    }
  ]
}